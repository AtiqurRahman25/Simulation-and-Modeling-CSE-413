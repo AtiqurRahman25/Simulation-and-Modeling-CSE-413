{
  "nbformat": 4,
  "nbformat_minor": 0,
  "metadata": {
    "colab": {
      "provenance": []
    },
    "kernelspec": {
      "name": "python3",
      "display_name": "Python 3"
    },
    "language_info": {
      "name": "python"
    }
  },
  "cells": [
    {
      "cell_type": "code",
      "source": [
        "import numpy as np\n",
        "from sympy import Matrix\n",
        "import pandas as pd\n",
        "import matplotlib.pyplot as plt\n",
        "import seaborn as sns"
      ],
      "metadata": {
        "id": "a4x3FKte0SYk"
      },
      "execution_count": null,
      "outputs": []
    },
    {
      "cell_type": "markdown",
      "source": [
        "Task - 01"
      ],
      "metadata": {
        "id": "tsm5xGrgFvpk"
      }
    },
    {
      "cell_type": "code",
      "source": [
        "scalar = 3.7\n",
        "arr = np.array([4,7,2,1,3,6])\n",
        "\n",
        "# sin, cos, tan values for all array elements\n",
        "sin_values = np.sin(arr)\n",
        "cos_values = np.cos(arr)\n",
        "tan_values = np.tan(arr)\n",
        "\n",
        "asin_values = np.arcsin(np.clip(arr / np.max(arr), -1, 1))  # Normalized and Clipping for valid range [-1, 1]\n",
        "acos_values = np.arccos(np.clip(arr / np.max(arr), -1, 1))\n",
        "atan_values = np.arctan(arr)\n",
        "\n",
        "\n",
        "# Exponential and logarithm\n",
        "exp_values = np.exp(arr)\n",
        "log_values = np.log(arr)  # Natural logarithm\n",
        "\n",
        "# Absolute value and square root\n",
        "abs_values = np.abs(arr)\n",
        "sqrt_values = np.sqrt(arr)\n",
        "\n",
        "# Remainder when divided by a scalar (e.g., 2)\n",
        "rem_values = np.remainder(arr, 2)\n",
        "\n",
        "# Rounding functions\n",
        "round_values = np.round(arr)\n",
        "floor_values = np.floor(arr)\n",
        "ceil_values = np.ceil(arr)\n",
        "\n",
        "# Display results\n",
        "print(\"sin:\", sin_values)\n",
        "print(\"\\ncos:\", cos_values)\n",
        "print(\"\\ntan:\", tan_values)\n",
        "print(\"\\nasin:\", asin_values)\n",
        "print(\"\\nacos:\", acos_values)\n",
        "print(\"\\natan:\", atan_values)\n",
        "print(\"\\nexp:\", exp_values)\n",
        "print(\"\\nlog:\", log_values)\n",
        "print(\"\\nabs:\", abs_values)\n",
        "print(\"\\nsqrt:\", sqrt_values)\n",
        "print(\"\\nrem:\", rem_values)\n",
        "print(\"\\nround:\", round_values)\n",
        "print(\"\\nfloor:\", floor_values)\n",
        "print(\"\\nceil:\", ceil_values)"
      ],
      "metadata": {
        "colab": {
          "base_uri": "https://localhost:8080/"
        },
        "id": "EUrkYdHi2WzT",
        "outputId": "2a748c6f-e6c9-44b2-d63c-cd0a0b56932a"
      },
      "execution_count": null,
      "outputs": [
        {
          "output_type": "stream",
          "name": "stdout",
          "text": [
            "sin: [-0.7568025   0.6569866   0.90929743  0.84147098  0.14112001 -0.2794155 ]\n",
            "\n",
            "cos: [-0.65364362  0.75390225 -0.41614684  0.54030231 -0.9899925   0.96017029]\n",
            "\n",
            "tan: [ 1.15782128  0.87144798 -2.18503986  1.55740772 -0.14254654 -0.29100619]\n",
            "\n",
            "asin: [0.60824558 1.57079633 0.2897517  0.14334757 0.44291104 1.0296968 ]\n",
            "\n",
            "acos: [0.96255075 0.         1.28104463 1.42744876 1.12788528 0.54109953]\n",
            "\n",
            "atan: [1.32581766 1.42889927 1.10714872 0.78539816 1.24904577 1.40564765]\n",
            "\n",
            "exp: [  54.59815003 1096.63315843    7.3890561     2.71828183   20.08553692\n",
            "  403.42879349]\n",
            "\n",
            "log: [1.38629436 1.94591015 0.69314718 0.         1.09861229 1.79175947]\n",
            "\n",
            "abs: [4 7 2 1 3 6]\n",
            "\n",
            "sqrt: [2.         2.64575131 1.41421356 1.         1.73205081 2.44948974]\n",
            "\n",
            "rem: [0 1 0 1 1 0]\n",
            "\n",
            "round: [4 7 2 1 3 6]\n",
            "\n",
            "floor: [4. 7. 2. 1. 3. 6.]\n",
            "\n",
            "ceil: [4. 7. 2. 1. 3. 6.]\n"
          ]
        }
      ]
    },
    {
      "cell_type": "markdown",
      "source": [
        "Task - 02"
      ],
      "metadata": {
        "id": "aolEeDQPGLZr"
      }
    },
    {
      "cell_type": "code",
      "source": [
        "# Creating a 2x2 matrix\n",
        "matrix = np.array([[1, 2], [3, 4]])\n",
        "\n",
        "# Trigonometric functions\n",
        "sin_values = np.sin(matrix)\n",
        "cos_values = np.cos(matrix)\n",
        "tan_values = np.tan(matrix)\n",
        "asin_values = np.arcsin(np.clip(matrix / np.max(matrix), -1, 1))  # Clipping for valid range [-1, 1]\n",
        "acos_values = np.arccos(np.clip(matrix / np.max(matrix), -1, 1))\n",
        "atan_values = np.arctan(matrix)\n",
        "\n",
        "# Exponential and logarithm\n",
        "exp_values = np.exp(matrix)\n",
        "log_values = np.log(matrix)  # Natural logarithm (log base e)\n",
        "\n",
        "# Absolute value and square root\n",
        "abs_values = np.abs(matrix)\n",
        "sqrt_values = np.sqrt(matrix)\n",
        "\n",
        "# Remainder when divided by a scalar (e.g., 2)\n",
        "rem_values = np.remainder(matrix, 2)\n",
        "\n",
        "# Rounding functions\n",
        "round_values = np.round(matrix)\n",
        "floor_values = np.floor(matrix)\n",
        "ceil_values = np.ceil(matrix)\n",
        "\n",
        "# Display results\n",
        "print(\"Matrix:\\n\", matrix)\n",
        "print(\"\\nsin:\\n\", sin_values)\n",
        "print(\"\\ncos:\\n\", cos_values)\n",
        "print(\"\\ntan:\\n\", tan_values)\n",
        "print(\"\\nasine:\\n\", asin_values)\n",
        "print(\"\\nacosine:\\n\", acos_values)\n",
        "print(\"\\natangent:\\n\", atan_values)\n",
        "print(\"\\nexp:\\n\", exp_values)\n",
        "print(\"\\nlog (natural):\\n\", log_values)\n",
        "print(\"\\nabs:\\n\", abs_values)\n",
        "print(\"\\nsqrt:\\n\", sqrt_values)\n",
        "print(\"\\nrem (remainder when divided by 2):\\n\", rem_values)\n",
        "print(\"\\nround:\\n\", round_values)\n",
        "print(\"\\nfloor:\\n\", floor_values)\n",
        "print(\"\\nceil:\\n\", ceil_values)\n"
      ],
      "metadata": {
        "colab": {
          "base_uri": "https://localhost:8080/"
        },
        "id": "Ezm1N_BeGH30",
        "outputId": "56f3472f-6573-461e-d31c-4bea9f951035"
      },
      "execution_count": null,
      "outputs": [
        {
          "output_type": "stream",
          "name": "stdout",
          "text": [
            "Matrix:\n",
            " [[1 2]\n",
            " [3 4]]\n",
            "\n",
            "sin:\n",
            " [[ 0.84147098  0.90929743]\n",
            " [ 0.14112001 -0.7568025 ]]\n",
            "\n",
            "cos:\n",
            " [[ 0.54030231 -0.41614684]\n",
            " [-0.9899925  -0.65364362]]\n",
            "\n",
            "tan:\n",
            " [[ 1.55740772 -2.18503986]\n",
            " [-0.14254654  1.15782128]]\n",
            "\n",
            "asine:\n",
            " [[0.25268026 0.52359878]\n",
            " [0.84806208 1.57079633]]\n",
            "\n",
            "acosine:\n",
            " [[1.31811607 1.04719755]\n",
            " [0.72273425 0.        ]]\n",
            "\n",
            "atangent:\n",
            " [[0.78539816 1.10714872]\n",
            " [1.24904577 1.32581766]]\n",
            "\n",
            "exp:\n",
            " [[ 2.71828183  7.3890561 ]\n",
            " [20.08553692 54.59815003]]\n",
            "\n",
            "log (natural):\n",
            " [[0.         0.69314718]\n",
            " [1.09861229 1.38629436]]\n",
            "\n",
            "abs:\n",
            " [[1 2]\n",
            " [3 4]]\n",
            "\n",
            "sqrt:\n",
            " [[1.         1.41421356]\n",
            " [1.73205081 2.        ]]\n",
            "\n",
            "rem (remainder when divided by 2):\n",
            " [[1 0]\n",
            " [1 0]]\n",
            "\n",
            "round:\n",
            " [[1 2]\n",
            " [3 4]]\n",
            "\n",
            "floor:\n",
            " [[1. 2.]\n",
            " [3. 4.]]\n",
            "\n",
            "ceil:\n",
            " [[1. 2.]\n",
            " [3. 4.]]\n"
          ]
        }
      ]
    },
    {
      "cell_type": "markdown",
      "source": [
        "Task - 03"
      ],
      "metadata": {
        "id": "uKPI5CacGTA7"
      }
    },
    {
      "cell_type": "code",
      "source": [
        "# Creating a 3X2 matrix\n",
        "matrix = np.array([[7, 2], [3, 4], [6, 9]])\n",
        "\n",
        "# Trigonometric functions\n",
        "sin_values = np.sin(matrix)\n",
        "cos_values = np.cos(matrix)\n",
        "tan_values = np.tan(matrix)\n",
        "asin_values = np.arcsin(np.clip(matrix / np.max(matrix), -1, 1))  # Clipping for valid range [-1, 1]\n",
        "acos_values = np.arccos(np.clip(matrix / np.max(matrix), -1, 1))\n",
        "atan_values = np.arctan(matrix)\n",
        "\n",
        "# Exponential and logarithm\n",
        "exp_values = np.exp(matrix)\n",
        "log_values = np.log(matrix)  # Natural logarithm (log base e)\n",
        "\n",
        "# Absolute value and square root\n",
        "abs_values = np.abs(matrix)\n",
        "sqrt_values = np.sqrt(matrix)\n",
        "\n",
        "# Remainder when divided by a scalar (e.g., 2)\n",
        "rem_values = np.remainder(matrix, 2)\n",
        "\n",
        "# Rounding functions\n",
        "round_values = np.round(matrix)\n",
        "floor_values = np.floor(matrix)\n",
        "ceil_values = np.ceil(matrix)\n",
        "\n",
        "# Display results\n",
        "print(\"Matrix:\\n\", matrix)\n",
        "print(\"\\nsin:\\n\", sin_values)\n",
        "print(\"\\ncos:\\n\", cos_values)\n",
        "print(\"\\ntan:\\n\", tan_values)\n",
        "print(\"\\nInverse sine:\\n\", asin_values)\n",
        "print(\"\\nInverse cosine:\\n\", acos_values)\n",
        "print(\"\\nInverse tangent:\\n\", atan_values)\n",
        "print(\"\\nexp:\\n\", exp_values)\n",
        "print(\"\\nlog (natural):\\n\", log_values)\n",
        "print(\"\\nabs:\\n\", abs_values)\n",
        "print(\"\\nsqrt:\\n\", sqrt_values)\n",
        "print(\"\\nrem (remainder when divided by 2):\\n\", rem_values)\n",
        "print(\"\\nround:\\n\", round_values)\n",
        "print(\"\\nfloor:\\n\", floor_values)\n",
        "print(\"\\nceil:\\n\", ceil_values)\n"
      ],
      "metadata": {
        "colab": {
          "base_uri": "https://localhost:8080/"
        },
        "id": "iYl7R1eR-AX0",
        "outputId": "45d6caed-985b-4d9b-b5f7-feef6293eb50"
      },
      "execution_count": null,
      "outputs": [
        {
          "output_type": "stream",
          "name": "stdout",
          "text": [
            "Matrix:\n",
            " [[7 2]\n",
            " [3 4]\n",
            " [6 9]]\n",
            "\n",
            "sin:\n",
            " [[ 0.6569866   0.90929743]\n",
            " [ 0.14112001 -0.7568025 ]\n",
            " [-0.2794155   0.41211849]]\n",
            "\n",
            "cos:\n",
            " [[ 0.75390225 -0.41614684]\n",
            " [-0.9899925  -0.65364362]\n",
            " [ 0.96017029 -0.91113026]]\n",
            "\n",
            "tan:\n",
            " [[ 0.87144798 -2.18503986]\n",
            " [-0.14254654  1.15782128]\n",
            " [-0.29100619 -0.45231566]]\n",
            "\n",
            "Inverse sine:\n",
            " [[0.89112251 0.22409309]\n",
            " [0.33983691 0.46055399]\n",
            " [0.72972766 1.57079633]]\n",
            "\n",
            "Inverse cosine:\n",
            " [[0.67967382 1.34670323]\n",
            " [1.23095942 1.11024234]\n",
            " [0.84106867 0.        ]]\n",
            "\n",
            "Inverse tangent:\n",
            " [[1.42889927 1.10714872]\n",
            " [1.24904577 1.32581766]\n",
            " [1.40564765 1.46013911]]\n",
            "\n",
            "exp:\n",
            " [[1.09663316e+03 7.38905610e+00]\n",
            " [2.00855369e+01 5.45981500e+01]\n",
            " [4.03428793e+02 8.10308393e+03]]\n",
            "\n",
            "log (natural):\n",
            " [[1.94591015 0.69314718]\n",
            " [1.09861229 1.38629436]\n",
            " [1.79175947 2.19722458]]\n",
            "\n",
            "abs:\n",
            " [[7 2]\n",
            " [3 4]\n",
            " [6 9]]\n",
            "\n",
            "sqrt:\n",
            " [[2.64575131 1.41421356]\n",
            " [1.73205081 2.        ]\n",
            " [2.44948974 3.        ]]\n",
            "\n",
            "rem (remainder when divided by 2):\n",
            " [[1 0]\n",
            " [1 0]\n",
            " [0 1]]\n",
            "\n",
            "round:\n",
            " [[7 2]\n",
            " [3 4]\n",
            " [6 9]]\n",
            "\n",
            "floor:\n",
            " [[7. 2.]\n",
            " [3. 4.]\n",
            " [6. 9.]]\n",
            "\n",
            "ceil:\n",
            " [[7. 2.]\n",
            " [3. 4.]\n",
            " [6. 9.]]\n"
          ]
        }
      ]
    },
    {
      "cell_type": "markdown",
      "source": [
        "Task - 04"
      ],
      "metadata": {
        "id": "Of_menBnGcJb"
      }
    },
    {
      "cell_type": "code",
      "source": [
        "# Creating a 3X2 matrix\n",
        "matrix = np.random.uniform(1.0, 10.0, (2, 3))\n",
        "\n",
        "# max element\n",
        "mx = np.max(matrix)\n",
        "max_index = np.argmax(matrix)  # Index of max element\n",
        "\n",
        "# min element\n",
        "mn = np.min(matrix)\n",
        "min_index = np.argmin(matrix)  # Index of min element\n",
        "\n",
        "# length of the matrix\n",
        "l = len(matrix)\n",
        "\n",
        "# row wise descending order\n",
        "asc = np.sort(matrix, axis=1)[:, ::-1]\n",
        "\n",
        "# entire matrix descending order\n",
        "des = np.sort(matrix.flatten())[::-1]\n",
        "\n",
        "# 5. Sum of elements\n",
        "sum_values = np.sum(matrix)\n",
        "\n",
        "# 6. Product of elements\n",
        "prod_values = np.prod(matrix)\n",
        "\n",
        "# 7. Median value\n",
        "median_value = np.median(matrix)\n",
        "\n",
        "# 8. Mean value\n",
        "mean_value = np.mean(matrix)\n",
        "\n",
        "# 9. Standard deviation\n",
        "std_dev = np.std(matrix)\n",
        "\n",
        "\n",
        "# Display results\n",
        "print(\"Max value:\", mx, \"at index\", max_index)\n",
        "print(\"\\nMin value:\", mn, \"at index\", min_index)\n",
        "print(\"\\nLength of vector:\", l)\n",
        "print(\"\\nSorted vector(Descending-Rowwise):\\n\", asc)\n",
        "print(\"\\nSorted vector(descending-Entire Matrix):\", des)\n",
        "print(\"\\nSum of elements:\", sum_values)\n",
        "print(\"\\nProduct of elements:\", prod_values)\n",
        "print(\"\\nMedian value:\", median_value)\n",
        "print(\"\\nMean value:\", mean_value)\n",
        "print(\"\\nStandard deviation:\", std_dev)\n",
        "\n",
        "#HeatMap\n",
        "plt.figure(figsize=(6, 4))\n",
        "sns.heatmap(matrix, annot=True, cmap='YlGnBu', fmt=\".2f\", linewidths=.5)\n",
        "plt.title(\"Heatmap of 2x3 Matrix\")\n",
        "plt.show()\n"
      ],
      "metadata": {
        "colab": {
          "base_uri": "https://localhost:8080/",
          "height": 756
        },
        "id": "ZDrwFBRl-zWS",
        "outputId": "27407776-0a68-48db-8dc7-a5dcdc5427f1"
      },
      "execution_count": null,
      "outputs": [
        {
          "output_type": "stream",
          "name": "stdout",
          "text": [
            "Max value: 9.454175583199044 at index 2\n",
            "\n",
            "Min value: 1.5804762030733448 at index 1\n",
            "\n",
            "Length of vector: 2\n",
            "\n",
            "Sorted vector(Descending-Rowwise):\n",
            " [[9.45417558 3.45614706 1.5804762 ]\n",
            " [7.43229592 5.27369217 1.96722205]]\n",
            "\n",
            "Sorted vector(descending-Entire Matrix): [9.45417558 7.43229592 5.27369217 3.45614706 1.96722205 1.5804762 ]\n",
            "\n",
            "Sum of elements: 29.164008987667124\n",
            "\n",
            "Product of elements: 3981.9425682386673\n",
            "\n",
            "Median value: 4.364919614030441\n",
            "\n",
            "Mean value: 4.860668164611187\n",
            "\n",
            "Standard deviation: 2.857403768163848\n"
          ]
        },
        {
          "output_type": "display_data",
          "data": {
            "text/plain": [
              "<Figure size 600x400 with 2 Axes>"
            ],
            "image/png": "[encoded data removed]"
          },
          "metadata": {}
        }
      ]
    },
    {
      "cell_type": "code",
      "source": [],
      "metadata": {
        "id": "x-G_EEcwCBA0"
      },
      "execution_count": null,
      "outputs": []
    }
  ]
}