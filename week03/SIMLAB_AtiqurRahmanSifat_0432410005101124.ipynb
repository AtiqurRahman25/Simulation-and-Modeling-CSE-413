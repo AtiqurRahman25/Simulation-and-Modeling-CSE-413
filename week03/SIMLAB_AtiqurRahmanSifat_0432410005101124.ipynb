{
  "nbformat": 4,
  "nbformat_minor": 0,
  "metadata": {
    "colab": {
      "provenance": []
    },
    "kernelspec": {
      "name": "python3",
      "display_name": "Python 3"
    },
    "language_info": {
      "name": "python"
    }
  },
  "cells": [
    {
      "cell_type": "markdown",
      "source": [
        "### Uniform Random Numbers:"
      ],
      "metadata": {
        "id": "2Hb2L1JtOeWD"
      }
    },
    {
      "cell_type": "code",
      "execution_count": 1,
      "metadata": {
        "id": "QPjq1poMOKzA"
      },
      "outputs": [],
      "source": [
        "import numpy as np\n",
        "from sympy import Matrix\n",
        "import matplotlib.pyplot as plt\n",
        "import seaborn as sns\n"
      ]
    },
    {
      "cell_type": "code",
      "source": [
        "randomData = np.random.rand(10)\n",
        "plt.hist(randomData, bins=3, edgecolor=\"White\")"
      ],
      "metadata": {
        "colab": {
          "base_uri": "https://localhost:8080/",
          "height": 485
        },
        "id": "0nvUdbnwOfgy",
        "outputId": "d49eeb56-1b16-45b1-aec5-b18b4a5ec6a2"
      },
      "execution_count": 39,
      "outputs": [
        {
          "output_type": "execute_result",
          "data": {
            "text/plain": [
              "(array([6., 1., 3.]),\n",
              " array([0.1068852 , 0.37244326, 0.63800132, 0.90355938]),\n",
              " <BarContainer object of 3 artists>)"
            ]
          },
          "metadata": {},
          "execution_count": 39
        },
        {
          "output_type": "display_data",
          "data": {
            "text/plain": [
              "<Figure size 640x480 with 1 Axes>"
            ],
            "image/png": "[encoded data removed]"
          },
          "metadata": {}
        }
      ]
    },
    {
      "cell_type": "markdown",
      "source": [
        "### standard normal distribution"
      ],
      "metadata": {
        "id": "Cumm6RsyPWGc"
      }
    },
    {
      "cell_type": "code",
      "source": [
        "stdDistribution = np.random.normal(0, 1, 500)"
      ],
      "metadata": {
        "id": "34X_esDAOzSq"
      },
      "execution_count": 43,
      "outputs": []
    },
    {
      "cell_type": "code",
      "source": [
        "plt.hist(stdDistribution, alpha = 0.6, bins=14, edgecolor=\"White\")"
      ],
      "metadata": {
        "colab": {
          "base_uri": "https://localhost:8080/",
          "height": 540
        },
        "id": "9izrYU9lUGZi",
        "outputId": "fd632524-5f6c-459e-f767-9393b9c0decd"
      },
      "execution_count": 45,
      "outputs": [
        {
          "output_type": "execute_result",
          "data": {
            "text/plain": [
              "(array([ 3.,  9., 10., 29., 49., 64., 75., 90., 68., 50., 29., 16.,  5.,\n",
              "         3.]),\n",
              " array([-3.07533251, -2.63990457, -2.20447662, -1.76904868, -1.33362073,\n",
              "        -0.89819278, -0.46276484, -0.02733689,  0.40809105,  0.843519  ,\n",
              "         1.27894694,  1.71437489,  2.14980283,  2.58523078,  3.02065872]),\n",
              " <BarContainer object of 14 artists>)"
            ]
          },
          "metadata": {},
          "execution_count": 45
        },
        {
          "output_type": "display_data",
          "data": {
            "text/plain": [
              "<Figure size 640x480 with 1 Axes>"
            ],
            "image/png": "[encoded data removed]"
          },
          "metadata": {}
        }
      ]
    },
    {
      "cell_type": "markdown",
      "source": [
        "### Student Lab Assignment 2"
      ],
      "metadata": {
        "id": "DDhIjr-lSEBj"
      }
    },
    {
      "cell_type": "code",
      "source": [
        "# With Seed\n",
        "np.random.seed(10)\n",
        "seeded_matrix = np.random.randint(1, 51, (3, 3))\n",
        "print(\"Seeded Random Matrix:\\n\", seeded_matrix)\n",
        "\n",
        "# Without Seed\n",
        "np.random.seed(None)  # No seed, generates different values each time\n",
        "non_seeded_matrix = np.random.randint(1, 51, (3, 3))\n",
        "print(\"\\nNon-Seeded Random Matrix:\\n\", non_seeded_matrix)\n"
      ],
      "metadata": {
        "colab": {
          "base_uri": "https://localhost:8080/"
        },
        "id": "acefx0I4SRbQ",
        "outputId": "ffd463f6-3153-44a9-9316-9643fe835170"
      },
      "execution_count": 46,
      "outputs": [
        {
          "output_type": "stream",
          "name": "stdout",
          "text": [
            "Seeded Random Matrix:\n",
            " [[10 37 16]\n",
            " [ 1 50 29]\n",
            " [26 30 49]]\n",
            "\n",
            "Non-Seeded Random Matrix:\n",
            " [[ 6 49  7]\n",
            " [29 18  8]\n",
            " [45 16 26]]\n"
          ]
        }
      ]
    },
    {
      "cell_type": "markdown",
      "source": [
        "### Observation & explanation of the differences in outputs\n",
        "\n",
        "***Seed - Keeps the value same\n",
        "Without Seed - Value changes while the run button is clicked ****"
      ],
      "metadata": {
        "id": "IIXzk8OEU3b6"
      }
    },
    {
      "cell_type": "markdown",
      "source": [
        "### **Monte Carlo DART**"
      ],
      "metadata": {
        "id": "1VB_iTURZxBI"
      }
    },
    {
      "cell_type": "markdown",
      "source": [
        "SETUP & PERSONALIZATION"
      ],
      "metadata": {
        "id": "EhXvXWwbaeWO"
      }
    },
    {
      "cell_type": "code",
      "source": [
        "import random"
      ],
      "metadata": {
        "id": "WJzqu8qRZ2P1"
      },
      "execution_count": 47,
      "outputs": []
    },
    {
      "cell_type": "code",
      "source": [
        "def estimate_pi(num_points):\n",
        "    inside = 0\n",
        "    for _ in range(num_points):\n",
        "        x = random.uniform(0,2)\n",
        "        y = random.uniform(0,2)\n",
        "        if x*x + y*y <= 4:\n",
        "            inside += 1\n",
        "        #print(x,y)\n",
        "    pi = 4 * inside / num_points\n",
        "    print(\"Estimated pi for\", num_points, \"points is:\", pi)\n",
        "\n",
        "# Main Function\n",
        "# Name = Atiqur Rahman Sifat {17 Characters}\n",
        "# ID - 0432410005101124\n",
        "estimate_pi(200*17)\n"
      ],
      "metadata": {
        "colab": {
          "base_uri": "https://localhost:8080/"
        },
        "id": "v5seIodUaVDt",
        "outputId": "d23ae152-a2a1-4f91-dd52-f162f0000a60"
      },
      "execution_count": 82,
      "outputs": [
        {
          "output_type": "stream",
          "name": "stdout",
          "text": [
            "Estimated pi for 3400 points is: 3.171764705882353\n"
          ]
        }
      ]
    },
    {
      "cell_type": "code",
      "source": [],
      "metadata": {
        "id": "1oZTKXMAc1Nt"
      },
      "execution_count": null,
      "outputs": []
    }
  ]
}